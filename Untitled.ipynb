{
 "cells": [
  {
   "cell_type": "code",
   "execution_count": 95,
   "metadata": {},
   "outputs": [],
   "source": [
    "import pickle\n",
    "import os\n",
    "from scipy.io.wavfile import read,write\n",
    "from audio_matcher2 import *\n",
    "import config\n",
    "import songs\n",
    "from fingerprint import fingerprint_song\n",
    "from collections import Counter"
   ]
  },
  {
   "cell_type": "code",
   "execution_count": 96,
   "metadata": {},
   "outputs": [],
   "source": [
    "db_dir = config.get(\"dbOutputDir\")\n",
    "db_file = os.path.join(db_dir, \"db.pickle\")\n",
    "song_file = os.path.join(db_dir, \"metadata.pickle\")\n",
    "db = None\n",
    "songs_metadata = None\n",
    "\n",
    "with open(db_file,'rb') as f:\n",
    "    db = pickle.load(f)\n",
    "\n",
    "with open(song_file,'rb') as f:\n",
    "    songs_metadata = pickle.load(f)\n",
    "\n",
    "test_folder = config.get(\"testSongDir\")\n"
   ]
  },
  {
   "cell_type": "code",
   "execution_count": 97,
   "metadata": {},
   "outputs": [],
   "source": [
    "test_files = os.listdir(test_folder)"
   ]
  },
  {
   "cell_type": "code",
   "execution_count": 98,
   "metadata": {},
   "outputs": [
    {
     "data": {
      "text/plain": [
       "['Aankh Maare O Ladka Aankh Maare [Full Song] _Tere Mere Sapne_ Arshad Warsi-2YDZDHF20_M.wav',\n",
       " 'temp.wav',\n",
       " 'temp2.wav',\n",
       " '2021-02-28-20:55:25.wav',\n",
       " 'WhatsApp Audio 2021-02-28 at 9.10.07 PM.m4a',\n",
       " '.gitkeep',\n",
       " 'WhatsApp Audio 2021-02-28 at 8.36.36 PM.m4a',\n",
       " 'WhatsApp Audio 2021-02-28 at 9.51.08 PM.m4a']"
      ]
     },
     "execution_count": 98,
     "metadata": {},
     "output_type": "execute_result"
    }
   ],
   "source": [
    "test_files"
   ]
  },
  {
   "cell_type": "code",
   "execution_count": 99,
   "metadata": {},
   "outputs": [],
   "source": [
    "tf = test_files[0]"
   ]
  },
  {
   "cell_type": "code",
   "execution_count": 100,
   "metadata": {},
   "outputs": [],
   "source": [
    "processed = songs.pre_process(os.path.join(test_folder, tf))"
   ]
  },
  {
   "cell_type": "code",
   "execution_count": 101,
   "metadata": {},
   "outputs": [],
   "source": [
    "fp_recording = fingerprint_song(recording, rate)"
   ]
  },
  {
   "cell_type": "code",
   "execution_count": 102,
   "metadata": {},
   "outputs": [],
   "source": [
    "matched_couples = []\n",
    "for address in fp_recording.keys():\n",
    "    if address in db:\n",
    "        matched_couples.extend(db[address])"
   ]
  },
  {
   "cell_type": "code",
   "execution_count": 103,
   "metadata": {},
   "outputs": [],
   "source": [
    "counts = Counter(matched_couples)"
   ]
  },
  {
   "cell_type": "code",
   "execution_count": 104,
   "metadata": {},
   "outputs": [],
   "source": [
    "def remove_values_from_list(the_list, val):\n",
    "    return [value for value in the_list if value != val]"
   ]
  },
  {
   "cell_type": "code",
   "execution_count": 77,
   "metadata": {},
   "outputs": [],
   "source": [
    "for matched_couple in counts:\n",
    "        if counts[matched_couple] < 4:\n",
    "            matched_couples = remove_values_from_list(matched_couples, matched_couple)"
   ]
  },
  {
   "cell_type": "code",
   "execution_count": 105,
   "metadata": {},
   "outputs": [
    {
     "data": {
      "text/plain": [
       "{0: 'Aankh Maare O Ladka Aankh Maare [Full Song] _Tere Mere Sapne_ Arshad Warsi-2YDZDHF20_M.wav',\n",
       " 1: 'Koi Mil Gaya Full Video - Kuch Kuch Hota Hai_Shah Rukh Khan,Kajol, Rani_Udit Narayan-Jzd4bma3QNo.wav',\n",
       " 2: 'Aashiq Banaya Aapne Title (Full Song) _ Himesh Reshammiya,Shreya Ghoshal _ Emraan Hashmi,Tanushree D-0bAVd9jJE2Q.wav',\n",
       " 3: 'Akhiyaan Milaoon Kabhi _ Raja Songs _ Madhuri Dixit _ Sanjay Kapoor _ Udit Narayan _ Alka Yagnik-Ux7WD9FrmWQ.wav',\n",
       " 4: \"'Sona Sona' Full VIDEO Song - Major Saab _ Amitabh Bachchan, Ajay Devgn, Sonali Bendre-K8rNTJcdqLo.wav\",\n",
       " 5: 'Teri Yaadon Mein (Full Song) _ The Killer-8UjuVi_-dvc.wav',\n",
       " 6: \"Sona Kitna Sona Hai _ Govinda & Karisma Kapoor _ Udit N & Poornima _ Hero No.1 _ 90's Blockbuster-PlN6oP-Nlno.wav\",\n",
       " 7: \"'Oh Oh Jane Jaana' Salman Khan Full Song _ Pyaar Kiya Toh Darna Kya-x_elT6zkqN0.wav\",\n",
       " 8: 'Lagi Lagi - Aksar (2006) _HD_ - Full Song [HD] - Emraan Hashmi & Udita Goswami-KnfXiOeYIi4.wav',\n",
       " 9: 'Afsana Banake Bhool Na Jaana [Full Song] _ Dil Diya Hai-psaBpso9BG4.wav',\n",
       " 10: \"Chamma Chamma _ 90's Popular Song _ Urmila Matondkar _ Alka Yagnik _ China - Gate _ 90's Item Song-aMcBxxAARBM.wav\",\n",
       " 11: 'Tera Rang Balle Balle Lyrical _ Bobby Deol _ Preity Zinta _ Jaspinder Narula _ Sonu Nigam _ 90s Hits-TKYI5UJTfVw.wav',\n",
       " 12: 'Le Gayi - Full Song _ Dil To Pagal Hai _ Shah Rukh Khan _ Karisma Kapoor _ Asha Bhosle-dGZb1kv5zW0.wav',\n",
       " 13: 'Yeh Kaali Kaali Aankhen Full Video Song _ Baazigar _ Shahrukh Khan & Kajol _ Superhit Hindi Song-3CvSysBhwLg.wav',\n",
       " 14: \"'Ishq Sufiyana Full Song' _ 'The Dirty Picture' _ Emraan Hashmi,Vidya Balan _ Vishal - Shekhar-6b50_M2Tttc.wav\",\n",
       " 15: \"Tu Cheez Badi Hai Mast - Lyrical Video _ Mohra _ Akshay Kumar & Raveena Tandon _ 90's Superhit Song-bH_8yww6BAI.wav\",\n",
       " 16: 'Aap Ki Kashish Full Song with Lyrics _ Aashiq Banaya Aapne _ Emraan Hashmi, Tanushree Dutta-jx0qbW_YTCs.wav'}"
      ]
     },
     "execution_count": 105,
     "metadata": {},
     "output_type": "execute_result"
    }
   ],
   "source": [
    "songs_metadata"
   ]
  },
  {
   "cell_type": "code",
   "execution_count": 106,
   "metadata": {},
   "outputs": [],
   "source": [
    "matched_song_ids = Counter(couple[1] for couple in matched_couples)"
   ]
  },
  {
   "cell_type": "code",
   "execution_count": 108,
   "metadata": {},
   "outputs": [
    {
     "data": {
      "text/plain": [
       "(8, 54745)"
      ]
     },
     "execution_count": 108,
     "metadata": {},
     "output_type": "execute_result"
    }
   ],
   "source": [
    "matched_song_ids.most_common()[0]"
   ]
  },
  {
   "cell_type": "code",
   "execution_count": 81,
   "metadata": {},
   "outputs": [
    {
     "data": {
      "text/plain": [
       "['temp.wav',\n",
       " '2021-02-28-20:55:25.wav',\n",
       " 'WhatsApp Audio 2021-02-28 at 9.10.07 PM.m4a',\n",
       " '.gitkeep',\n",
       " 'WhatsApp Audio 2021-02-28 at 8.36.36 PM.m4a']"
      ]
     },
     "execution_count": 81,
     "metadata": {},
     "output_type": "execute_result"
    }
   ],
   "source": [
    "test_files"
   ]
  },
  {
   "cell_type": "code",
   "execution_count": 82,
   "metadata": {},
   "outputs": [
    {
     "data": {
      "text/plain": [
       "'temp.wav'"
      ]
     },
     "execution_count": 82,
     "metadata": {},
     "output_type": "execute_result"
    }
   ],
   "source": [
    "tf"
   ]
  },
  {
   "cell_type": "code",
   "execution_count": null,
   "metadata": {},
   "outputs": [],
   "source": []
  }
 ],
 "metadata": {
  "kernelspec": {
   "display_name": "Python 3",
   "language": "python",
   "name": "python3"
  },
  "language_info": {
   "codemirror_mode": {
    "name": "ipython",
    "version": 3
   },
   "file_extension": ".py",
   "mimetype": "text/x-python",
   "name": "python",
   "nbconvert_exporter": "python",
   "pygments_lexer": "ipython3",
   "version": "3.8.5"
  }
 },
 "nbformat": 4,
 "nbformat_minor": 4
}
